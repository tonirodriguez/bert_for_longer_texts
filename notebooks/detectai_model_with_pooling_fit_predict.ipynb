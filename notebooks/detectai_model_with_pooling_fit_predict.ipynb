{
 "cells": [
  {
   "cell_type": "code",
   "execution_count": 1,
   "id": "0b684d1c-49d8-4a89-80ee-8f54c4f6fe34",
   "metadata": {},
   "outputs": [],
   "source": [
    "%load_ext autoreload\n",
    "%autoreload 2\n",
    "\n",
    "import os\n",
    "\n",
    "while \"notebooks\" in os.getcwd():\n",
    "    os.chdir(\"..\")"
   ]
  },
  {
   "cell_type": "code",
   "execution_count": 2,
   "id": "8f020349-c880-426d-a878-3089c79c9203",
   "metadata": {},
   "outputs": [
    {
     "name": "stderr",
     "output_type": "stream",
     "text": [
      "/Users/development/miniconda3/envs/llm/lib/python3.9/site-packages/tqdm/auto.py:21: TqdmWarning: IProgress not found. Please update jupyter and ipywidgets. See https://ipywidgets.readthedocs.io/en/stable/user_install.html\n",
      "  from .autonotebook import tqdm as notebook_tqdm\n"
     ]
    }
   ],
   "source": [
    "import pandas as pd\n",
    "import numpy as np\n",
    "from sklearn.model_selection import train_test_split\n",
    "import torch\n",
    "\n",
    "from belt_nlp.bert_with_pooling import BertClassifierWithPooling"
   ]
  },
  {
   "cell_type": "markdown",
   "id": "082da124-c5d5-4ed1-8828-fc7f92efbba2",
   "metadata": {},
   "source": [
    "# Example - Model BERT with pooling"
   ]
  },
  {
   "cell_type": "markdown",
   "id": "bebcd04f-9a46-4562-8afd-25e0f41263ca",
   "metadata": {},
   "source": [
    "In this notebook we will show how to use basic methods `fit` and `predict` for the BERT model with pooling."
   ]
  },
  {
   "cell_type": "markdown",
   "id": "77184f93-d4e0-449f-8a5e-c9b1103d077c",
   "metadata": {},
   "source": [
    "## Load data - sample of IMDB reviews in english"
   ]
  },
  {
   "cell_type": "code",
   "execution_count": 3,
   "id": "58bddeba-98da-4eeb-b214-16318539a62e",
   "metadata": {},
   "outputs": [],
   "source": [
    "#SAMPLE_DATA_PATH = \"D:\\\\src\\ml\\\\detect_ai_generated_texts\\\\input\\\\daigt-v2-train-dataset\\\\train_v2_drcat_02.csv\"\n",
    "SAMPLE_DATA_PATH = \"/Users/development/ml/src/detect_ai_generated_texts/input/daigt-v2-train-dataset/train_v2_drcat_02.csv\""
   ]
  },
  {
   "cell_type": "code",
   "execution_count": 4,
   "id": "c84ad322-1484-4cd8-bf44-9bd7dcdb7ce3",
   "metadata": {},
   "outputs": [
    {
     "data": {
      "text/html": [
       "<div>\n",
       "<style scoped>\n",
       "    .dataframe tbody tr th:only-of-type {\n",
       "        vertical-align: middle;\n",
       "    }\n",
       "\n",
       "    .dataframe tbody tr th {\n",
       "        vertical-align: top;\n",
       "    }\n",
       "\n",
       "    .dataframe thead th {\n",
       "        text-align: right;\n",
       "    }\n",
       "</style>\n",
       "<table border=\"1\" class=\"dataframe\">\n",
       "  <thead>\n",
       "    <tr style=\"text-align: right;\">\n",
       "      <th></th>\n",
       "      <th>text</th>\n",
       "      <th>label</th>\n",
       "      <th>prompt_name</th>\n",
       "      <th>source</th>\n",
       "      <th>RDizzl3_seven</th>\n",
       "    </tr>\n",
       "  </thead>\n",
       "  <tbody>\n",
       "    <tr>\n",
       "      <th>0</th>\n",
       "      <td>Phones\\n\\nModern humans today are always on th...</td>\n",
       "      <td>0</td>\n",
       "      <td>Phones and driving</td>\n",
       "      <td>persuade_corpus</td>\n",
       "      <td>False</td>\n",
       "    </tr>\n",
       "    <tr>\n",
       "      <th>1</th>\n",
       "      <td>This essay will explain if drivers should or s...</td>\n",
       "      <td>0</td>\n",
       "      <td>Phones and driving</td>\n",
       "      <td>persuade_corpus</td>\n",
       "      <td>False</td>\n",
       "    </tr>\n",
       "    <tr>\n",
       "      <th>2</th>\n",
       "      <td>Driving while the use of cellular devices\\n\\nT...</td>\n",
       "      <td>0</td>\n",
       "      <td>Phones and driving</td>\n",
       "      <td>persuade_corpus</td>\n",
       "      <td>False</td>\n",
       "    </tr>\n",
       "    <tr>\n",
       "      <th>3</th>\n",
       "      <td>Phones &amp; Driving\\n\\nDrivers should not be able...</td>\n",
       "      <td>0</td>\n",
       "      <td>Phones and driving</td>\n",
       "      <td>persuade_corpus</td>\n",
       "      <td>False</td>\n",
       "    </tr>\n",
       "    <tr>\n",
       "      <th>4</th>\n",
       "      <td>Cell Phone Operation While Driving\\n\\nThe abil...</td>\n",
       "      <td>0</td>\n",
       "      <td>Phones and driving</td>\n",
       "      <td>persuade_corpus</td>\n",
       "      <td>False</td>\n",
       "    </tr>\n",
       "    <tr>\n",
       "      <th>...</th>\n",
       "      <td>...</td>\n",
       "      <td>...</td>\n",
       "      <td>...</td>\n",
       "      <td>...</td>\n",
       "      <td>...</td>\n",
       "    </tr>\n",
       "    <tr>\n",
       "      <th>44863</th>\n",
       "      <td>Dear Senator,\\n\\nI am writing to you today to ...</td>\n",
       "      <td>1</td>\n",
       "      <td>Does the electoral college work?</td>\n",
       "      <td>kingki19_palm</td>\n",
       "      <td>True</td>\n",
       "    </tr>\n",
       "    <tr>\n",
       "      <th>44864</th>\n",
       "      <td>Dear Senator,\\n\\nI am writing to you today to ...</td>\n",
       "      <td>1</td>\n",
       "      <td>Does the electoral college work?</td>\n",
       "      <td>kingki19_palm</td>\n",
       "      <td>True</td>\n",
       "    </tr>\n",
       "    <tr>\n",
       "      <th>44865</th>\n",
       "      <td>Dear Senator,\\n\\nI am writing to you today to ...</td>\n",
       "      <td>1</td>\n",
       "      <td>Does the electoral college work?</td>\n",
       "      <td>kingki19_palm</td>\n",
       "      <td>True</td>\n",
       "    </tr>\n",
       "    <tr>\n",
       "      <th>44866</th>\n",
       "      <td>Dear Senator,\\n\\nI am writing to you today to ...</td>\n",
       "      <td>1</td>\n",
       "      <td>Does the electoral college work?</td>\n",
       "      <td>kingki19_palm</td>\n",
       "      <td>True</td>\n",
       "    </tr>\n",
       "    <tr>\n",
       "      <th>44867</th>\n",
       "      <td>Dear Senator,\\n\\nI am writing to you today to ...</td>\n",
       "      <td>1</td>\n",
       "      <td>Does the electoral college work?</td>\n",
       "      <td>kingki19_palm</td>\n",
       "      <td>True</td>\n",
       "    </tr>\n",
       "  </tbody>\n",
       "</table>\n",
       "<p>44868 rows × 5 columns</p>\n",
       "</div>"
      ],
      "text/plain": [
       "                                                    text  label  \\\n",
       "0      Phones\\n\\nModern humans today are always on th...      0   \n",
       "1      This essay will explain if drivers should or s...      0   \n",
       "2      Driving while the use of cellular devices\\n\\nT...      0   \n",
       "3      Phones & Driving\\n\\nDrivers should not be able...      0   \n",
       "4      Cell Phone Operation While Driving\\n\\nThe abil...      0   \n",
       "...                                                  ...    ...   \n",
       "44863  Dear Senator,\\n\\nI am writing to you today to ...      1   \n",
       "44864  Dear Senator,\\n\\nI am writing to you today to ...      1   \n",
       "44865  Dear Senator,\\n\\nI am writing to you today to ...      1   \n",
       "44866  Dear Senator,\\n\\nI am writing to you today to ...      1   \n",
       "44867  Dear Senator,\\n\\nI am writing to you today to ...      1   \n",
       "\n",
       "                            prompt_name           source  RDizzl3_seven  \n",
       "0                    Phones and driving  persuade_corpus          False  \n",
       "1                    Phones and driving  persuade_corpus          False  \n",
       "2                    Phones and driving  persuade_corpus          False  \n",
       "3                    Phones and driving  persuade_corpus          False  \n",
       "4                    Phones and driving  persuade_corpus          False  \n",
       "...                                 ...              ...            ...  \n",
       "44863  Does the electoral college work?    kingki19_palm           True  \n",
       "44864  Does the electoral college work?    kingki19_palm           True  \n",
       "44865  Does the electoral college work?    kingki19_palm           True  \n",
       "44866  Does the electoral college work?    kingki19_palm           True  \n",
       "44867  Does the electoral college work?    kingki19_palm           True  \n",
       "\n",
       "[44868 rows x 5 columns]"
      ]
     },
     "execution_count": 4,
     "metadata": {},
     "output_type": "execute_result"
    }
   ],
   "source": [
    "df = pd.read_csv(SAMPLE_DATA_PATH)\n",
    "df"
   ]
  },
  {
   "cell_type": "markdown",
   "id": "fad5dcfa-bf7f-4202-a6b6-5ed256fbfd4d",
   "metadata": {},
   "source": [
    "## Divide to train and test sets"
   ]
  },
  {
   "cell_type": "code",
   "execution_count": 5,
   "id": "1505f595-5990-4b90-8e75-eed4e4c4e277",
   "metadata": {},
   "outputs": [],
   "source": [
    "texts = df[\"text\"].tolist()\n",
    "labels = df[\"label\"].tolist()\n",
    "X_train, X_test, y_train, y_test = train_test_split(texts, labels, test_size=0.2, random_state=42)"
   ]
  },
  {
   "cell_type": "markdown",
   "id": "8b6d07f5-dad0-4612-9cf0-793716e79197",
   "metadata": {},
   "source": [
    "## Fit the model"
   ]
  },
  {
   "cell_type": "code",
   "execution_count": 6,
   "id": "8a9c9cf8",
   "metadata": {},
   "outputs": [],
   "source": [
    "#device = torch.device(\"cuda\") if torch.cuda.is_available() else torch.device(\"cpu\")\n",
    "device = \"cuda\" if torch.cuda.is_available() else \"cpu\""
   ]
  },
  {
   "cell_type": "code",
   "execution_count": 7,
   "id": "6710d58d",
   "metadata": {},
   "outputs": [
    {
     "data": {
      "text/plain": [
       "'cpu'"
      ]
     },
     "execution_count": 7,
     "metadata": {},
     "output_type": "execute_result"
    }
   ],
   "source": [
    "device"
   ]
  },
  {
   "cell_type": "code",
   "execution_count": 8,
   "id": "484eeab5-a89e-4846-b416-b7fae5ef9080",
   "metadata": {},
   "outputs": [],
   "source": [
    "MODEL_PARAMS = {\n",
    "    \"batch_size\": 8,\n",
    "    \"learning_rate\": 5e-5,\n",
    "    \"epochs\": 3,\n",
    "    \"chunk_size\": 510,\n",
    "    \"stride\": 510,\n",
    "    \"minimal_chunk_length\": 510,\n",
    "    \"pooling_strategy\": \"mean\",\n",
    "}\n",
    "model = BertClassifierWithPooling(**MODEL_PARAMS, device=device)"
   ]
  },
  {
   "cell_type": "code",
   "execution_count": null,
   "id": "39fde966-d26c-40e6-9c17-a1a108f7b05e",
   "metadata": {},
   "outputs": [
    {
     "ename": "",
     "evalue": "",
     "output_type": "error",
     "traceback": [
      "\u001b[1;31mEl Kernel se bloqueó al ejecutar código en la celda actual o en una celda anterior. Revise el código de las celdas para identificar una posible causa del error. Haga clic <a href='https://aka.ms/vscodeJupyterKernelCrash'>aquí</a> para obtener más información. Vea el [registro] de Jupyter (command:jupyter.viewOutput) para obtener más detalles."
     ]
    }
   ],
   "source": [
    "model.fit(X_train, y_train, epochs=3)  #  Warning about tokeninizing too long text is expected"
   ]
  },
  {
   "cell_type": "markdown",
   "id": "5c8d1e36-a3e5-4e81-885d-48b91a6148e6",
   "metadata": {},
   "source": [
    "## Get predictions"
   ]
  },
  {
   "cell_type": "code",
   "execution_count": null,
   "id": "b707a272-422d-4c7d-b5d0-fefcaec5b5dd",
   "metadata": {},
   "outputs": [],
   "source": [
    "preds = model.predict_classes(X_test)"
   ]
  },
  {
   "cell_type": "markdown",
   "id": "1b381253-e76d-4764-ad3f-caccc67e4610",
   "metadata": {},
   "source": [
    "## Calculate model accuracy on the test data"
   ]
  },
  {
   "cell_type": "code",
   "execution_count": null,
   "id": "a3666c3e-09d8-4645-a963-4bfcf0d1877e",
   "metadata": {},
   "outputs": [],
   "source": [
    "accurate = sum(preds == np.array(y_test).astype(bool))\n",
    "accuracy = accurate / len(y_test)\n",
    "\n",
    "print(f\"Test accuracy: {accuracy}\")"
   ]
  }
 ],
 "metadata": {
  "kernelspec": {
   "display_name": "llm",
   "language": "python",
   "name": "python3"
  },
  "language_info": {
   "codemirror_mode": {
    "name": "ipython",
    "version": 3
   },
   "file_extension": ".py",
   "mimetype": "text/x-python",
   "name": "python",
   "nbconvert_exporter": "python",
   "pygments_lexer": "ipython3",
   "version": "3.9.18"
  }
 },
 "nbformat": 4,
 "nbformat_minor": 5
}
